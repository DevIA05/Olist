{
 "cells": [
  {
   "cell_type": "markdown",
   "id": "b801f4c5-dbec-49b2-9c52-c9867d3fa352",
   "metadata": {},
   "source": [
    "# Data geolocation"
   ]
  },
  {
   "cell_type": "code",
   "execution_count": 4,
   "id": "bc62969b-2c58-4824-a48f-dc27df58edc8",
   "metadata": {
    "tags": []
   },
   "outputs": [],
   "source": [
    "import pandas as pd"
   ]
  },
  {
   "cell_type": "code",
   "execution_count": 5,
   "id": "b3b3f23d-6b22-4062-9f29-375ad1cc2344",
   "metadata": {
    "tags": []
   },
   "outputs": [],
   "source": [
    "df = pd.read_csv('data/olist_geolocation_dataset.csv')"
   ]
  },
  {
   "cell_type": "markdown",
   "id": "e969b09a-ac85-44d6-b681-b63de53069f0",
   "metadata": {},
   "source": [
    "## Types"
   ]
  },
  {
   "cell_type": "code",
   "execution_count": 6,
   "id": "9cf7f8ac-3888-4d99-bba7-6d4b856be4b0",
   "metadata": {
    "tags": []
   },
   "outputs": [
    {
     "name": "stdout",
     "output_type": "stream",
     "text": [
      "geolocation_zip_code_prefix      int64\n",
      "geolocation_lat                float64\n",
      "geolocation_lng                float64\n",
      "geolocation_city                object\n",
      "geolocation_state               object\n",
      "dtype: object\n"
     ]
    }
   ],
   "source": [
    "print(df.dtypes)"
   ]
  },
  {
   "cell_type": "markdown",
   "id": "f61b598b-88ca-42a8-b970-e7dfee560f69",
   "metadata": {},
   "source": [
    "## zip_code"
   ]
  },
  {
   "cell_type": "code",
   "execution_count": 7,
   "id": "0f0e1771-9e12-4c40-88d8-2802c403eeb9",
   "metadata": {
    "tags": []
   },
   "outputs": [
    {
     "data": {
      "text/html": [
       "<div>\n",
       "<style scoped>\n",
       "    .dataframe tbody tr th:only-of-type {\n",
       "        vertical-align: middle;\n",
       "    }\n",
       "\n",
       "    .dataframe tbody tr th {\n",
       "        vertical-align: top;\n",
       "    }\n",
       "\n",
       "    .dataframe thead th {\n",
       "        text-align: right;\n",
       "    }\n",
       "</style>\n",
       "<table border=\"1\" class=\"dataframe\">\n",
       "  <thead>\n",
       "    <tr style=\"text-align: right;\">\n",
       "      <th></th>\n",
       "      <th>geolocation_zip_code_prefix</th>\n",
       "      <th>geolocation_lat</th>\n",
       "      <th>geolocation_lng</th>\n",
       "      <th>geolocation_city</th>\n",
       "      <th>geolocation_state</th>\n",
       "    </tr>\n",
       "  </thead>\n",
       "  <tbody>\n",
       "    <tr>\n",
       "      <th>7704</th>\n",
       "      <td>1307</td>\n",
       "      <td>-23.549361</td>\n",
       "      <td>-46.654124</td>\n",
       "      <td>sao paulo</td>\n",
       "      <td>SP</td>\n",
       "    </tr>\n",
       "    <tr>\n",
       "      <th>7724</th>\n",
       "      <td>1307</td>\n",
       "      <td>-23.555337</td>\n",
       "      <td>-46.655947</td>\n",
       "      <td>sao paulo</td>\n",
       "      <td>SP</td>\n",
       "    </tr>\n",
       "    <tr>\n",
       "      <th>7732</th>\n",
       "      <td>1307</td>\n",
       "      <td>-23.551046</td>\n",
       "      <td>-46.653077</td>\n",
       "      <td>sao paulo</td>\n",
       "      <td>SP</td>\n",
       "    </tr>\n",
       "    <tr>\n",
       "      <th>7733</th>\n",
       "      <td>1307</td>\n",
       "      <td>-23.551910</td>\n",
       "      <td>-46.649195</td>\n",
       "      <td>são paulo</td>\n",
       "      <td>SP</td>\n",
       "    </tr>\n",
       "    <tr>\n",
       "      <th>7748</th>\n",
       "      <td>1307</td>\n",
       "      <td>-23.558604</td>\n",
       "      <td>-46.658515</td>\n",
       "      <td>sao paulo</td>\n",
       "      <td>SP</td>\n",
       "    </tr>\n",
       "    <tr>\n",
       "      <th>...</th>\n",
       "      <td>...</td>\n",
       "      <td>...</td>\n",
       "      <td>...</td>\n",
       "      <td>...</td>\n",
       "      <td>...</td>\n",
       "    </tr>\n",
       "    <tr>\n",
       "      <th>11341</th>\n",
       "      <td>1307</td>\n",
       "      <td>-23.551525</td>\n",
       "      <td>-46.652848</td>\n",
       "      <td>são paulo</td>\n",
       "      <td>SP</td>\n",
       "    </tr>\n",
       "    <tr>\n",
       "      <th>11357</th>\n",
       "      <td>1307</td>\n",
       "      <td>-23.552199</td>\n",
       "      <td>-46.652550</td>\n",
       "      <td>sao paulo</td>\n",
       "      <td>SP</td>\n",
       "    </tr>\n",
       "    <tr>\n",
       "      <th>11362</th>\n",
       "      <td>1307</td>\n",
       "      <td>-23.557245</td>\n",
       "      <td>-46.657477</td>\n",
       "      <td>são paulo</td>\n",
       "      <td>SP</td>\n",
       "    </tr>\n",
       "    <tr>\n",
       "      <th>11364</th>\n",
       "      <td>1307</td>\n",
       "      <td>-23.552017</td>\n",
       "      <td>-46.649542</td>\n",
       "      <td>sao paulo</td>\n",
       "      <td>SP</td>\n",
       "    </tr>\n",
       "    <tr>\n",
       "      <th>11384</th>\n",
       "      <td>1307</td>\n",
       "      <td>-23.553325</td>\n",
       "      <td>-46.652456</td>\n",
       "      <td>sao paulo</td>\n",
       "      <td>SP</td>\n",
       "    </tr>\n",
       "  </tbody>\n",
       "</table>\n",
       "<p>311 rows × 5 columns</p>\n",
       "</div>"
      ],
      "text/plain": [
       "       geolocation_zip_code_prefix  geolocation_lat  geolocation_lng   \n",
       "7704                          1307       -23.549361       -46.654124  \\\n",
       "7724                          1307       -23.555337       -46.655947   \n",
       "7732                          1307       -23.551046       -46.653077   \n",
       "7733                          1307       -23.551910       -46.649195   \n",
       "7748                          1307       -23.558604       -46.658515   \n",
       "...                            ...              ...              ...   \n",
       "11341                         1307       -23.551525       -46.652848   \n",
       "11357                         1307       -23.552199       -46.652550   \n",
       "11362                         1307       -23.557245       -46.657477   \n",
       "11364                         1307       -23.552017       -46.649542   \n",
       "11384                         1307       -23.553325       -46.652456   \n",
       "\n",
       "      geolocation_city geolocation_state  \n",
       "7704         sao paulo                SP  \n",
       "7724         sao paulo                SP  \n",
       "7732         sao paulo                SP  \n",
       "7733         são paulo                SP  \n",
       "7748         sao paulo                SP  \n",
       "...                ...               ...  \n",
       "11341        são paulo                SP  \n",
       "11357        sao paulo                SP  \n",
       "11362        são paulo                SP  \n",
       "11364        sao paulo                SP  \n",
       "11384        sao paulo                SP  \n",
       "\n",
       "[311 rows x 5 columns]"
      ]
     },
     "execution_count": 7,
     "metadata": {},
     "output_type": "execute_result"
    }
   ],
   "source": [
    "df[df['geolocation_zip_code_prefix'] == 1307]"
   ]
  },
  {
   "cell_type": "code",
   "execution_count": null,
   "id": "561fda1b-4784-447e-a5d1-bb127d3bc367",
   "metadata": {},
   "outputs": [],
   "source": [
    "df[df['geolocation_zip_code_prefix'] == 1307]"
   ]
  },
  {
   "cell_type": "markdown",
   "id": "fdfdeb16-778f-4ab8-ae65-ef1c3805a36e",
   "metadata": {},
   "source": [
    "## City"
   ]
  },
  {
   "cell_type": "code",
   "execution_count": 27,
   "id": "89ae645b-635f-486d-b7f4-fee67c4a3b39",
   "metadata": {
    "tags": []
   },
   "outputs": [],
   "source": [
    "select_col = ['geolocation_city', 'geolocation_state']"
   ]
  },
  {
   "cell_type": "code",
   "execution_count": 28,
   "id": "fe0683be-5f74-4c4f-8559-50b887713d5c",
   "metadata": {
    "tags": []
   },
   "outputs": [],
   "source": [
    "city = df[select_col].drop_duplicates()"
   ]
  },
  {
   "cell_type": "code",
   "execution_count": 29,
   "id": "ab77d53a-5736-454e-9d15-20cbdcee1423",
   "metadata": {
    "tags": []
   },
   "outputs": [
    {
     "data": {
      "text/html": [
       "<div>\n",
       "<style scoped>\n",
       "    .dataframe tbody tr th:only-of-type {\n",
       "        vertical-align: middle;\n",
       "    }\n",
       "\n",
       "    .dataframe tbody tr th {\n",
       "        vertical-align: top;\n",
       "    }\n",
       "\n",
       "    .dataframe thead th {\n",
       "        text-align: right;\n",
       "    }\n",
       "</style>\n",
       "<table border=\"1\" class=\"dataframe\">\n",
       "  <thead>\n",
       "    <tr style=\"text-align: right;\">\n",
       "      <th></th>\n",
       "      <th>geolocation_city</th>\n",
       "      <th>geolocation_state</th>\n",
       "    </tr>\n",
       "  </thead>\n",
       "  <tbody>\n",
       "    <tr>\n",
       "      <th>5</th>\n",
       "      <td>são paulo</td>\n",
       "      <td>SP</td>\n",
       "    </tr>\n",
       "    <tr>\n",
       "      <th>22261</th>\n",
       "      <td>são paulo</td>\n",
       "      <td>RN</td>\n",
       "    </tr>\n",
       "  </tbody>\n",
       "</table>\n",
       "</div>"
      ],
      "text/plain": [
       "      geolocation_city geolocation_state\n",
       "5            são paulo                SP\n",
       "22261        são paulo                RN"
      ]
     },
     "execution_count": 29,
     "metadata": {},
     "output_type": "execute_result"
    }
   ],
   "source": [
    "city[city[\"geolocation_city\"] == \"são paulo\"]"
   ]
  },
  {
   "cell_type": "code",
   "execution_count": 30,
   "id": "6a6844a6-9b82-4ac2-9ddc-cbff5fccae3b",
   "metadata": {
    "tags": []
   },
   "outputs": [],
   "source": [
    "# Le nom d'une ville peut se retrouver dans des states différents"
   ]
  },
  {
   "cell_type": "markdown",
   "id": "0cf2b79c-a9db-4c90-a647-91b32bf946fc",
   "metadata": {},
   "source": [
    "## group zip code en fonction des villes et états différents"
   ]
  },
  {
   "cell_type": "code",
   "execution_count": null,
   "id": "6eef8343-0f5b-442f-87af-27c813fd783a",
   "metadata": {},
   "outputs": [],
   "source": [
    "\n",
    "# Create a new column with the combination of geolocation_city and geolocation_state\n",
    "df['city_and_state'] = df['geolocation_city'] + '_' + df['geolocation_state']\n",
    "\n",
    "# Create a dictionary with the prefixes that have different city_and_state combinations\n",
    "prefixes_dict = {}\n",
    "for prefix, group in df.groupby('geolocation_zip_code_prefix'):\n",
    "    if len(group['city_and_state'].unique()) > 1:S\n",
    "        prefixes_dict[prefix] = group['city_and_state'].unique()\n",
    "\n",
    "# Create a new dataframe with the prefixes and their corresponding city_and_state combinations\n",
    "prefixes_df = pd.DataFrame(list(prefixes_dict.items()), columns=['geolocation_zip_code_prefix', 'city_and_state_combinations'])\n",
    "\n",
    "# Print the resulting dataframe\n",
    "print(prefixes_df)"
   ]
  }
 ],
 "metadata": {
  "kernelspec": {
   "display_name": "Python 3.11.2",
   "language": "python",
   "name": "myenv"
  },
  "language_info": {
   "codemirror_mode": {
    "name": "ipython",
    "version": 3
   },
   "file_extension": ".py",
   "mimetype": "text/x-python",
   "name": "python",
   "nbconvert_exporter": "python",
   "pygments_lexer": "ipython3",
   "version": "3.11.2"
  }
 },
 "nbformat": 4,
 "nbformat_minor": 5
}
