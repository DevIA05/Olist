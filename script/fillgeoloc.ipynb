{
 "cells": [
  {
   "cell_type": "markdown",
   "id": "121692f8-171f-4380-8b77-4c8478631c25",
   "metadata": {},
   "source": [
    "# Library"
   ]
  },
  {
   "cell_type": "code",
   "execution_count": 2,
   "id": "b7ee05f7-5240-432e-b984-e617696e7877",
   "metadata": {
    "tags": []
   },
   "outputs": [],
   "source": [
    "import psycopg2"
   ]
  },
  {
   "cell_type": "markdown",
   "id": "30be4128-698a-41a4-831a-94a924899eba",
   "metadata": {},
   "source": [
    "# Connection"
   ]
  },
  {
   "cell_type": "code",
   "execution_count": 4,
   "id": "db547704-2f9a-4887-b299-d890b7557b6e",
   "metadata": {
    "tags": []
   },
   "outputs": [],
   "source": [
    "conn = psycopg2.connect(\n",
    "    host=\"127.0.0.1\",\n",
    "    port=\"5432\",\n",
    "    database=\"olist\",\n",
    "    user=\"postgres\",\n",
    "    password=\"0000\"\n",
    ")"
   ]
  },
  {
   "cell_type": "markdown",
   "id": "778f64ed-931f-4151-a476-209d819e80b0",
   "metadata": {},
   "source": [
    "# Ajouter des données"
   ]
  },
  {
   "cell_type": "code",
   "execution_count": null,
   "id": "c0ff205f-84cc-4651-8107-7dbf7f653bab",
   "metadata": {},
   "outputs": [],
   "source": [
    "query = \"INSERT INTO your_table (column1, column2, column3) VALUES (%s, %s, %s)\"\n",
    "data = (\"value1\", \"value2\", \"value3\")\n",
    "cur.execute(query, data)"
   ]
  },
  {
   "cell_type": "code",
   "execution_count": 5,
   "id": "4bb6fea7-35a9-462c-8b45-9a7a9556760e",
   "metadata": {
    "tags": []
   },
   "outputs": [],
   "source": [
    "cur = conn.cursor()"
   ]
  },
  {
   "cell_type": "markdown",
   "id": "9fc12bfb-c02a-496b-a144-8edc5cd1e1b4",
   "metadata": {},
   "source": [
    "# Close the cursor and connection objects"
   ]
  },
  {
   "cell_type": "code",
   "execution_count": null,
   "id": "8fc24325-cf79-4ee4-b08e-2a0ec7632167",
   "metadata": {},
   "outputs": [],
   "source": [
    "cur.close()\n",
    "conn.close()"
   ]
  }
 ],
 "metadata": {
  "kernelspec": {
   "display_name": "Python 3.11.2",
   "language": "python",
   "name": "myenv"
  },
  "language_info": {
   "codemirror_mode": {
    "name": "ipython",
    "version": 3
   },
   "file_extension": ".py",
   "mimetype": "text/x-python",
   "name": "python",
   "nbconvert_exporter": "python",
   "pygments_lexer": "ipython3",
   "version": "3.11.2"
  }
 },
 "nbformat": 4,
 "nbformat_minor": 5
}
