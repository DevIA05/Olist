{
 "cells": [
  {
   "cell_type": "markdown",
   "id": "121692f8-171f-4380-8b77-4c8478631c25",
   "metadata": {},
   "source": [
    "# Library"
   ]
  },
  {
   "cell_type": "code",
   "execution_count": 1,
   "id": "b7ee05f7-5240-432e-b984-e617696e7877",
   "metadata": {
    "tags": []
   },
   "outputs": [],
   "source": [
    "import psycopg2\n",
    "import pandas as pd\n",
    "from sqlalchemy import create_engine"
   ]
  },
  {
   "cell_type": "markdown",
   "id": "30be4128-698a-41a4-831a-94a924899eba",
   "metadata": {},
   "source": [
    "# Connection"
   ]
  },
  {
   "cell_type": "code",
   "execution_count": 2,
   "id": "db547704-2f9a-4887-b299-d890b7557b6e",
   "metadata": {
    "tags": []
   },
   "outputs": [],
   "source": [
    "conn = psycopg2.connect(\n",
    "    host=\"127.0.0.1\",\n",
    "    port=\"5432\",\n",
    "    database=\"olist\",\n",
    "    user=\"postgres\",\n",
    "    password=\"0000\"\n",
    ")"
   ]
  },
  {
   "cell_type": "code",
   "execution_count": 3,
   "id": "f7abdac3-7c1e-417d-97c9-9b96962e6ff9",
   "metadata": {
    "tags": []
   },
   "outputs": [],
   "source": [
    "engine = create_engine('postgresql+psycopg2://', creator=lambda: conn)"
   ]
  },
  {
   "cell_type": "markdown",
   "id": "3442be6e-072c-496a-88cf-f50a9d8ca8d9",
   "metadata": {
    "tags": []
   },
   "source": [
    "# Import Data"
   ]
  },
  {
   "cell_type": "code",
   "execution_count": 4,
   "id": "52bd2e69-e8d6-4eca-9b8b-75a05ce4d10b",
   "metadata": {
    "tags": []
   },
   "outputs": [],
   "source": [
    "datageoloc = pd.read_csv('data/olist_geolocation_dataset.csv')"
   ]
  },
  {
   "cell_type": "code",
   "execution_count": 5,
   "id": "4ab3c12d-6c5f-4805-9589-f97c7c1bf587",
   "metadata": {
    "tags": []
   },
   "outputs": [
    {
     "data": {
      "text/html": [
       "<div>\n",
       "<style scoped>\n",
       "    .dataframe tbody tr th:only-of-type {\n",
       "        vertical-align: middle;\n",
       "    }\n",
       "\n",
       "    .dataframe tbody tr th {\n",
       "        vertical-align: top;\n",
       "    }\n",
       "\n",
       "    .dataframe thead th {\n",
       "        text-align: right;\n",
       "    }\n",
       "</style>\n",
       "<table border=\"1\" class=\"dataframe\">\n",
       "  <thead>\n",
       "    <tr style=\"text-align: right;\">\n",
       "      <th></th>\n",
       "      <th>geolocation_zip_code_prefix</th>\n",
       "      <th>geolocation_lat</th>\n",
       "      <th>geolocation_lng</th>\n",
       "      <th>geolocation_city</th>\n",
       "      <th>geolocation_state</th>\n",
       "    </tr>\n",
       "  </thead>\n",
       "  <tbody>\n",
       "    <tr>\n",
       "      <th>0</th>\n",
       "      <td>1037</td>\n",
       "      <td>-23.545621</td>\n",
       "      <td>-46.639292</td>\n",
       "      <td>sao paulo</td>\n",
       "      <td>SP</td>\n",
       "    </tr>\n",
       "    <tr>\n",
       "      <th>1</th>\n",
       "      <td>1046</td>\n",
       "      <td>-23.546081</td>\n",
       "      <td>-46.644820</td>\n",
       "      <td>sao paulo</td>\n",
       "      <td>SP</td>\n",
       "    </tr>\n",
       "    <tr>\n",
       "      <th>2</th>\n",
       "      <td>1046</td>\n",
       "      <td>-23.546129</td>\n",
       "      <td>-46.642951</td>\n",
       "      <td>sao paulo</td>\n",
       "      <td>SP</td>\n",
       "    </tr>\n",
       "    <tr>\n",
       "      <th>3</th>\n",
       "      <td>1041</td>\n",
       "      <td>-23.544392</td>\n",
       "      <td>-46.639499</td>\n",
       "      <td>sao paulo</td>\n",
       "      <td>SP</td>\n",
       "    </tr>\n",
       "    <tr>\n",
       "      <th>4</th>\n",
       "      <td>1035</td>\n",
       "      <td>-23.541578</td>\n",
       "      <td>-46.641607</td>\n",
       "      <td>sao paulo</td>\n",
       "      <td>SP</td>\n",
       "    </tr>\n",
       "  </tbody>\n",
       "</table>\n",
       "</div>"
      ],
      "text/plain": [
       "   geolocation_zip_code_prefix  geolocation_lat  geolocation_lng   \n",
       "0                         1037       -23.545621       -46.639292  \\\n",
       "1                         1046       -23.546081       -46.644820   \n",
       "2                         1046       -23.546129       -46.642951   \n",
       "3                         1041       -23.544392       -46.639499   \n",
       "4                         1035       -23.541578       -46.641607   \n",
       "\n",
       "  geolocation_city geolocation_state  \n",
       "0        sao paulo                SP  \n",
       "1        sao paulo                SP  \n",
       "2        sao paulo                SP  \n",
       "3        sao paulo                SP  \n",
       "4        sao paulo                SP  "
      ]
     },
     "execution_count": 5,
     "metadata": {},
     "output_type": "execute_result"
    }
   ],
   "source": [
    "datageoloc.head()"
   ]
  },
  {
   "cell_type": "markdown",
   "id": "30e40bde-0385-480c-9cf1-90db7c53b227",
   "metadata": {},
   "source": [
    "# Write in database"
   ]
  },
  {
   "cell_type": "markdown",
   "id": "19dfbaec-ed91-481b-b55f-89f4f6b08506",
   "metadata": {
    "jp-MarkdownHeadingCollapsed": true,
    "tags": []
   },
   "source": [
    "## State"
   ]
  },
  {
   "cell_type": "code",
   "execution_count": 11,
   "id": "dfaadd18-fcbc-4a5a-8ace-7d8c796f15fb",
   "metadata": {
    "tags": []
   },
   "outputs": [],
   "source": [
    "table_name = 'olist_state'"
   ]
  },
  {
   "cell_type": "code",
   "execution_count": 18,
   "id": "c9a62323-916d-4852-9269-e54097211012",
   "metadata": {
    "tags": []
   },
   "outputs": [],
   "source": [
    "state = pd.DataFrame(datageoloc['geolocation_state'].unique(), columns=['state_code'])"
   ]
  },
  {
   "cell_type": "code",
   "execution_count": 19,
   "id": "5f7e638c-5bce-41f9-8cc7-cb9886444a07",
   "metadata": {
    "tags": []
   },
   "outputs": [
    {
     "data": {
      "text/html": [
       "<div>\n",
       "<style scoped>\n",
       "    .dataframe tbody tr th:only-of-type {\n",
       "        vertical-align: middle;\n",
       "    }\n",
       "\n",
       "    .dataframe tbody tr th {\n",
       "        vertical-align: top;\n",
       "    }\n",
       "\n",
       "    .dataframe thead th {\n",
       "        text-align: right;\n",
       "    }\n",
       "</style>\n",
       "<table border=\"1\" class=\"dataframe\">\n",
       "  <thead>\n",
       "    <tr style=\"text-align: right;\">\n",
       "      <th></th>\n",
       "      <th>state_code</th>\n",
       "    </tr>\n",
       "  </thead>\n",
       "  <tbody>\n",
       "    <tr>\n",
       "      <th>0</th>\n",
       "      <td>SP</td>\n",
       "    </tr>\n",
       "    <tr>\n",
       "      <th>1</th>\n",
       "      <td>RN</td>\n",
       "    </tr>\n",
       "    <tr>\n",
       "      <th>2</th>\n",
       "      <td>AC</td>\n",
       "    </tr>\n",
       "    <tr>\n",
       "      <th>3</th>\n",
       "      <td>RJ</td>\n",
       "    </tr>\n",
       "    <tr>\n",
       "      <th>4</th>\n",
       "      <td>ES</td>\n",
       "    </tr>\n",
       "    <tr>\n",
       "      <th>5</th>\n",
       "      <td>MG</td>\n",
       "    </tr>\n",
       "    <tr>\n",
       "      <th>6</th>\n",
       "      <td>BA</td>\n",
       "    </tr>\n",
       "    <tr>\n",
       "      <th>7</th>\n",
       "      <td>SE</td>\n",
       "    </tr>\n",
       "    <tr>\n",
       "      <th>8</th>\n",
       "      <td>PE</td>\n",
       "    </tr>\n",
       "    <tr>\n",
       "      <th>9</th>\n",
       "      <td>AL</td>\n",
       "    </tr>\n",
       "    <tr>\n",
       "      <th>10</th>\n",
       "      <td>PB</td>\n",
       "    </tr>\n",
       "    <tr>\n",
       "      <th>11</th>\n",
       "      <td>CE</td>\n",
       "    </tr>\n",
       "    <tr>\n",
       "      <th>12</th>\n",
       "      <td>PI</td>\n",
       "    </tr>\n",
       "    <tr>\n",
       "      <th>13</th>\n",
       "      <td>MA</td>\n",
       "    </tr>\n",
       "    <tr>\n",
       "      <th>14</th>\n",
       "      <td>PA</td>\n",
       "    </tr>\n",
       "    <tr>\n",
       "      <th>15</th>\n",
       "      <td>AP</td>\n",
       "    </tr>\n",
       "    <tr>\n",
       "      <th>16</th>\n",
       "      <td>AM</td>\n",
       "    </tr>\n",
       "    <tr>\n",
       "      <th>17</th>\n",
       "      <td>RR</td>\n",
       "    </tr>\n",
       "    <tr>\n",
       "      <th>18</th>\n",
       "      <td>DF</td>\n",
       "    </tr>\n",
       "    <tr>\n",
       "      <th>19</th>\n",
       "      <td>GO</td>\n",
       "    </tr>\n",
       "    <tr>\n",
       "      <th>20</th>\n",
       "      <td>RO</td>\n",
       "    </tr>\n",
       "    <tr>\n",
       "      <th>21</th>\n",
       "      <td>TO</td>\n",
       "    </tr>\n",
       "    <tr>\n",
       "      <th>22</th>\n",
       "      <td>MT</td>\n",
       "    </tr>\n",
       "    <tr>\n",
       "      <th>23</th>\n",
       "      <td>MS</td>\n",
       "    </tr>\n",
       "    <tr>\n",
       "      <th>24</th>\n",
       "      <td>RS</td>\n",
       "    </tr>\n",
       "    <tr>\n",
       "      <th>25</th>\n",
       "      <td>PR</td>\n",
       "    </tr>\n",
       "    <tr>\n",
       "      <th>26</th>\n",
       "      <td>SC</td>\n",
       "    </tr>\n",
       "  </tbody>\n",
       "</table>\n",
       "</div>"
      ],
      "text/plain": [
       "   state_code\n",
       "0          SP\n",
       "1          RN\n",
       "2          AC\n",
       "3          RJ\n",
       "4          ES\n",
       "5          MG\n",
       "6          BA\n",
       "7          SE\n",
       "8          PE\n",
       "9          AL\n",
       "10         PB\n",
       "11         CE\n",
       "12         PI\n",
       "13         MA\n",
       "14         PA\n",
       "15         AP\n",
       "16         AM\n",
       "17         RR\n",
       "18         DF\n",
       "19         GO\n",
       "20         RO\n",
       "21         TO\n",
       "22         MT\n",
       "23         MS\n",
       "24         RS\n",
       "25         PR\n",
       "26         SC"
      ]
     },
     "execution_count": 19,
     "metadata": {},
     "output_type": "execute_result"
    }
   ],
   "source": [
    "state"
   ]
  },
  {
   "cell_type": "code",
   "execution_count": 20,
   "id": "4bb6fea7-35a9-462c-8b45-9a7a9556760e",
   "metadata": {
    "tags": []
   },
   "outputs": [
    {
     "data": {
      "text/plain": [
       "27"
      ]
     },
     "execution_count": 20,
     "metadata": {},
     "output_type": "execute_result"
    }
   ],
   "source": [
    "state.to_sql(table_name, engine, if_exists='append', index=False)"
   ]
  },
  {
   "cell_type": "markdown",
   "id": "b4ed39ca-0f99-4515-9238-63956864f3c9",
   "metadata": {
    "tags": []
   },
   "source": [
    "## zip_code"
   ]
  },
  {
   "cell_type": "code",
   "execution_count": 23,
   "id": "7ca406eb-6607-4f19-9895-a10f1ee25481",
   "metadata": {
    "tags": []
   },
   "outputs": [],
   "source": [
    "table_name = 'olist_zipcode'"
   ]
  },
  {
   "cell_type": "code",
   "execution_count": 25,
   "id": "9fe36973-d74f-4bff-8602-178ff8891317",
   "metadata": {
    "tags": []
   },
   "outputs": [],
   "source": [
    "zipcode = pd.DataFrame('zip_code_prefix': datageoloc['geolocation_zip_code_prefix'].unique())"
   ]
  },
  {
   "cell_type": "code",
   "execution_count": 26,
   "id": "050e8de6-63d7-4e05-8275-02025d421039",
   "metadata": {
    "tags": []
   },
   "outputs": [
    {
     "data": {
      "text/html": [
       "<div>\n",
       "<style scoped>\n",
       "    .dataframe tbody tr th:only-of-type {\n",
       "        vertical-align: middle;\n",
       "    }\n",
       "\n",
       "    .dataframe tbody tr th {\n",
       "        vertical-align: top;\n",
       "    }\n",
       "\n",
       "    .dataframe thead th {\n",
       "        text-align: right;\n",
       "    }\n",
       "</style>\n",
       "<table border=\"1\" class=\"dataframe\">\n",
       "  <thead>\n",
       "    <tr style=\"text-align: right;\">\n",
       "      <th></th>\n",
       "      <th>zip_code_prefix</th>\n",
       "    </tr>\n",
       "  </thead>\n",
       "  <tbody>\n",
       "    <tr>\n",
       "      <th>0</th>\n",
       "      <td>1037</td>\n",
       "    </tr>\n",
       "    <tr>\n",
       "      <th>1</th>\n",
       "      <td>1046</td>\n",
       "    </tr>\n",
       "    <tr>\n",
       "      <th>2</th>\n",
       "      <td>1041</td>\n",
       "    </tr>\n",
       "    <tr>\n",
       "      <th>3</th>\n",
       "      <td>1035</td>\n",
       "    </tr>\n",
       "    <tr>\n",
       "      <th>4</th>\n",
       "      <td>1012</td>\n",
       "    </tr>\n",
       "  </tbody>\n",
       "</table>\n",
       "</div>"
      ],
      "text/plain": [
       "   zip_code_prefix\n",
       "0             1037\n",
       "1             1046\n",
       "2             1041\n",
       "3             1035\n",
       "4             1012"
      ]
     },
     "execution_count": 26,
     "metadata": {},
     "output_type": "execute_result"
    }
   ],
   "source": [
    "zipcode.head()"
   ]
  },
  {
   "cell_type": "code",
   "execution_count": 29,
   "id": "a519388a-bde8-4701-b4f8-4e8c63c638f3",
   "metadata": {
    "tags": []
   },
   "outputs": [
    {
     "data": {
      "text/plain": [
       "(19015, 1)"
      ]
     },
     "execution_count": 29,
     "metadata": {},
     "output_type": "execute_result"
    }
   ],
   "source": [
    "zipcode.shape"
   ]
  },
  {
   "cell_type": "code",
   "execution_count": 30,
   "id": "68668c97-9a76-4e8e-8ee6-d0adccbae21a",
   "metadata": {
    "tags": []
   },
   "outputs": [
    {
     "data": {
      "text/plain": [
       "15"
      ]
     },
     "execution_count": 30,
     "metadata": {},
     "output_type": "execute_result"
    }
   ],
   "source": [
    "zipcode.to_sql(table_name, engine, if_exists='append', index=False)"
   ]
  },
  {
   "cell_type": "markdown",
   "id": "0aad26b3-14ce-4dbc-a620-21a560a123d3",
   "metadata": {
    "jp-MarkdownHeadingCollapsed": true,
    "tags": []
   },
   "source": [
    "## City"
   ]
  },
  {
   "cell_type": "code",
   "execution_count": 31,
   "id": "7b7b7bc8-849f-4344-b7ed-db2520fb0a46",
   "metadata": {
    "tags": []
   },
   "outputs": [],
   "source": [
    "table_name = 'olist_city'"
   ]
  },
  {
   "cell_type": "code",
   "execution_count": 32,
   "id": "549462a5-4b99-453e-9fe6-f10aadb6658a",
   "metadata": {
    "tags": []
   },
   "outputs": [],
   "source": [
    "select_col = ['geolocation_city', 'geolocation_state']"
   ]
  },
  {
   "cell_type": "code",
   "execution_count": 34,
   "id": "8dafb133-7ffe-4d57-a5f4-78f8435f04c1",
   "metadata": {
    "tags": []
   },
   "outputs": [],
   "source": [
    "city = datageoloc[select_col].drop_duplicates()"
   ]
  },
  {
   "cell_type": "code",
   "execution_count": 35,
   "id": "fd8a94fc-a6d5-4b4e-b5c8-0786ed9cc09c",
   "metadata": {
    "tags": []
   },
   "outputs": [
    {
     "data": {
      "text/html": [
       "<div>\n",
       "<style scoped>\n",
       "    .dataframe tbody tr th:only-of-type {\n",
       "        vertical-align: middle;\n",
       "    }\n",
       "\n",
       "    .dataframe tbody tr th {\n",
       "        vertical-align: top;\n",
       "    }\n",
       "\n",
       "    .dataframe thead th {\n",
       "        text-align: right;\n",
       "    }\n",
       "</style>\n",
       "<table border=\"1\" class=\"dataframe\">\n",
       "  <thead>\n",
       "    <tr style=\"text-align: right;\">\n",
       "      <th></th>\n",
       "      <th>geolocation_city</th>\n",
       "      <th>geolocation_state</th>\n",
       "    </tr>\n",
       "  </thead>\n",
       "  <tbody>\n",
       "    <tr>\n",
       "      <th>0</th>\n",
       "      <td>sao paulo</td>\n",
       "      <td>SP</td>\n",
       "    </tr>\n",
       "    <tr>\n",
       "      <th>5</th>\n",
       "      <td>são paulo</td>\n",
       "      <td>SP</td>\n",
       "    </tr>\n",
       "    <tr>\n",
       "      <th>10166</th>\n",
       "      <td>sao bernardo do campo</td>\n",
       "      <td>SP</td>\n",
       "    </tr>\n",
       "    <tr>\n",
       "      <th>22261</th>\n",
       "      <td>são paulo</td>\n",
       "      <td>RN</td>\n",
       "    </tr>\n",
       "    <tr>\n",
       "      <th>50999</th>\n",
       "      <td>jundiaí</td>\n",
       "      <td>SP</td>\n",
       "    </tr>\n",
       "  </tbody>\n",
       "</table>\n",
       "</div>"
      ],
      "text/plain": [
       "            geolocation_city geolocation_state\n",
       "0                  sao paulo                SP\n",
       "5                  são paulo                SP\n",
       "10166  sao bernardo do campo                SP\n",
       "22261              são paulo                RN\n",
       "50999                jundiaí                SP"
      ]
     },
     "execution_count": 35,
     "metadata": {},
     "output_type": "execute_result"
    }
   ],
   "source": [
    "city.head()"
   ]
  },
  {
   "cell_type": "code",
   "execution_count": 37,
   "id": "dd34228e-e998-40d2-9f30-aee19cdd26d9",
   "metadata": {
    "tags": []
   },
   "outputs": [
    {
     "data": {
      "text/plain": [
       "(8463, 2)"
      ]
     },
     "execution_count": 37,
     "metadata": {},
     "output_type": "execute_result"
    }
   ],
   "source": [
    "city.shape"
   ]
  },
  {
   "cell_type": "markdown",
   "id": "5f17c163-6317-4991-a51d-95d9c7bc4b7b",
   "metadata": {
    "tags": []
   },
   "source": [
    "### Renommer les colonnes"
   ]
  },
  {
   "cell_type": "code",
   "execution_count": 41,
   "id": "1f0a2f68-1119-4df3-9fd8-19568322e209",
   "metadata": {
    "tags": []
   },
   "outputs": [],
   "source": [
    "cols_name = ['city_name', 'state_code']\n",
    "city.columns = cols_name"
   ]
  },
  {
   "cell_type": "markdown",
   "id": "4ef657d2-ad41-4793-af38-1a1f3e79ec13",
   "metadata": {},
   "source": [
    "### Ajout dans la bdd"
   ]
  },
  {
   "cell_type": "code",
   "execution_count": 42,
   "id": "254cb0d0-2f67-4a1e-9412-bd4f9bb8fbf0",
   "metadata": {
    "tags": []
   },
   "outputs": [
    {
     "data": {
      "text/plain": [
       "463"
      ]
     },
     "execution_count": 42,
     "metadata": {},
     "output_type": "execute_result"
    }
   ],
   "source": [
    "city.to_sql(table_name, engine, if_exists='append', index=False)"
   ]
  },
  {
   "cell_type": "markdown",
   "id": "20b7cf7a-802f-400b-9475-b6e4e1e9aff7",
   "metadata": {
    "jp-MarkdownHeadingCollapsed": true,
    "tags": []
   },
   "source": [
    "## cityzipcode (Asso 17)"
   ]
  },
  {
   "cell_type": "code",
   "execution_count": 43,
   "id": "d3d60ea3-571a-43e6-bd31-126200a28e27",
   "metadata": {
    "tags": []
   },
   "outputs": [],
   "source": [
    "table_name = 'olist_cityzipcode'"
   ]
  },
  {
   "cell_type": "code",
   "execution_count": 44,
   "id": "4dc793f1-be00-4c04-a1ae-b668a5ff2bdf",
   "metadata": {
    "tags": []
   },
   "outputs": [],
   "source": [
    "select_col = ['geolocation_city', 'geolocation_state', 'geolocation_zip_code_prefix']"
   ]
  },
  {
   "cell_type": "code",
   "execution_count": 45,
   "id": "43254586-9804-4bbd-aa00-28881d4fa621",
   "metadata": {
    "tags": []
   },
   "outputs": [],
   "source": [
    "cityzipcode = datageoloc[select_col].drop_duplicates()"
   ]
  },
  {
   "cell_type": "code",
   "execution_count": 47,
   "id": "2cd01f5a-c14f-44d9-8d91-d14077454759",
   "metadata": {
    "tags": []
   },
   "outputs": [
    {
     "data": {
      "text/html": [
       "<div>\n",
       "<style scoped>\n",
       "    .dataframe tbody tr th:only-of-type {\n",
       "        vertical-align: middle;\n",
       "    }\n",
       "\n",
       "    .dataframe tbody tr th {\n",
       "        vertical-align: top;\n",
       "    }\n",
       "\n",
       "    .dataframe thead th {\n",
       "        text-align: right;\n",
       "    }\n",
       "</style>\n",
       "<table border=\"1\" class=\"dataframe\">\n",
       "  <thead>\n",
       "    <tr style=\"text-align: right;\">\n",
       "      <th></th>\n",
       "      <th>geolocation_city</th>\n",
       "      <th>geolocation_state</th>\n",
       "      <th>geolocation_zip_code_prefix</th>\n",
       "    </tr>\n",
       "  </thead>\n",
       "  <tbody>\n",
       "    <tr>\n",
       "      <th>0</th>\n",
       "      <td>sao paulo</td>\n",
       "      <td>SP</td>\n",
       "      <td>1037</td>\n",
       "    </tr>\n",
       "    <tr>\n",
       "      <th>1</th>\n",
       "      <td>sao paulo</td>\n",
       "      <td>SP</td>\n",
       "      <td>1046</td>\n",
       "    </tr>\n",
       "    <tr>\n",
       "      <th>3</th>\n",
       "      <td>sao paulo</td>\n",
       "      <td>SP</td>\n",
       "      <td>1041</td>\n",
       "    </tr>\n",
       "    <tr>\n",
       "      <th>4</th>\n",
       "      <td>sao paulo</td>\n",
       "      <td>SP</td>\n",
       "      <td>1035</td>\n",
       "    </tr>\n",
       "    <tr>\n",
       "      <th>5</th>\n",
       "      <td>são paulo</td>\n",
       "      <td>SP</td>\n",
       "      <td>1012</td>\n",
       "    </tr>\n",
       "  </tbody>\n",
       "</table>\n",
       "</div>"
      ],
      "text/plain": [
       "  geolocation_city geolocation_state  geolocation_zip_code_prefix\n",
       "0        sao paulo                SP                         1037\n",
       "1        sao paulo                SP                         1046\n",
       "3        sao paulo                SP                         1041\n",
       "4        sao paulo                SP                         1035\n",
       "5        são paulo                SP                         1012"
      ]
     },
     "execution_count": 47,
     "metadata": {},
     "output_type": "execute_result"
    }
   ],
   "source": [
    "cityzipcode.head()"
   ]
  },
  {
   "cell_type": "markdown",
   "id": "314ddb43-ec88-4553-b48e-2154e590f7f5",
   "metadata": {},
   "source": [
    "### Get city_id"
   ]
  },
  {
   "cell_type": "code",
   "execution_count": 80,
   "id": "c7947e91-4e0c-42b0-9f7d-2ed73304c9d4",
   "metadata": {
    "tags": []
   },
   "outputs": [],
   "source": [
    "cur = conn.cursor()"
   ]
  },
  {
   "cell_type": "code",
   "execution_count": 92,
   "id": "85e98a97-ca98-4d40-8832-56fc07e704f7",
   "metadata": {
    "tags": []
   },
   "outputs": [],
   "source": [
    "query = \"SELECT city_id FROM olist_city WHERE city_name = %s AND state_code = %s\""
   ]
  },
  {
   "cell_type": "code",
   "execution_count": 108,
   "id": "60afbeac-ddc5-406e-919b-bed84436601a",
   "metadata": {
    "tags": []
   },
   "outputs": [],
   "source": [
    "def getCityId(row):\n",
    "    # Exécution de la requête SQL pour récupérer la valeur correspondant aux valeurs de colonne1 et colonne2 de la ligne\n",
    "    cur.execute(query, (row[\"city_name\"], row[\"state_code\"]))\n",
    "    value = cur.fetchone()[0]\n",
    "    # Retourne la valeur pour ajouter une nouvelle colonne au DataFrame\n",
    "    return value\n",
    "\n",
    "cityzipcode[\"city_id\"] = cityzipcode.apply(getCityId, axis=1)"
   ]
  },
  {
   "cell_type": "code",
   "execution_count": 110,
   "id": "e98d0c54-8517-4d4d-9c3f-6aae6aeb6b1d",
   "metadata": {
    "tags": []
   },
   "outputs": [
    {
     "data": {
      "text/html": [
       "<div>\n",
       "<style scoped>\n",
       "    .dataframe tbody tr th:only-of-type {\n",
       "        vertical-align: middle;\n",
       "    }\n",
       "\n",
       "    .dataframe tbody tr th {\n",
       "        vertical-align: top;\n",
       "    }\n",
       "\n",
       "    .dataframe thead th {\n",
       "        text-align: right;\n",
       "    }\n",
       "</style>\n",
       "<table border=\"1\" class=\"dataframe\">\n",
       "  <thead>\n",
       "    <tr style=\"text-align: right;\">\n",
       "      <th></th>\n",
       "      <th>geolocation_city</th>\n",
       "      <th>geolocation_state</th>\n",
       "      <th>geolocation_zip_code_prefix</th>\n",
       "      <th>city_id</th>\n",
       "    </tr>\n",
       "  </thead>\n",
       "  <tbody>\n",
       "    <tr>\n",
       "      <th>0</th>\n",
       "      <td>sao paulo</td>\n",
       "      <td>SP</td>\n",
       "      <td>1037</td>\n",
       "      <td>1</td>\n",
       "    </tr>\n",
       "    <tr>\n",
       "      <th>1</th>\n",
       "      <td>sao paulo</td>\n",
       "      <td>SP</td>\n",
       "      <td>1046</td>\n",
       "      <td>1</td>\n",
       "    </tr>\n",
       "    <tr>\n",
       "      <th>3</th>\n",
       "      <td>sao paulo</td>\n",
       "      <td>SP</td>\n",
       "      <td>1041</td>\n",
       "      <td>1</td>\n",
       "    </tr>\n",
       "    <tr>\n",
       "      <th>4</th>\n",
       "      <td>sao paulo</td>\n",
       "      <td>SP</td>\n",
       "      <td>1035</td>\n",
       "      <td>1</td>\n",
       "    </tr>\n",
       "    <tr>\n",
       "      <th>5</th>\n",
       "      <td>são paulo</td>\n",
       "      <td>SP</td>\n",
       "      <td>1012</td>\n",
       "      <td>2</td>\n",
       "    </tr>\n",
       "    <tr>\n",
       "      <th>...</th>\n",
       "      <td>...</td>\n",
       "      <td>...</td>\n",
       "      <td>...</td>\n",
       "      <td>...</td>\n",
       "    </tr>\n",
       "    <tr>\n",
       "      <th>999806</th>\n",
       "      <td>ibiaçá</td>\n",
       "      <td>RS</td>\n",
       "      <td>99940</td>\n",
       "      <td>8459</td>\n",
       "    </tr>\n",
       "    <tr>\n",
       "      <th>999846</th>\n",
       "      <td>santa cecilia do sul</td>\n",
       "      <td>RS</td>\n",
       "      <td>99952</td>\n",
       "      <td>8460</td>\n",
       "    </tr>\n",
       "    <tr>\n",
       "      <th>999867</th>\n",
       "      <td>ciríaco</td>\n",
       "      <td>RS</td>\n",
       "      <td>99970</td>\n",
       "      <td>8461</td>\n",
       "    </tr>\n",
       "    <tr>\n",
       "      <th>999891</th>\n",
       "      <td>estação</td>\n",
       "      <td>RS</td>\n",
       "      <td>99930</td>\n",
       "      <td>8462</td>\n",
       "    </tr>\n",
       "    <tr>\n",
       "      <th>1000046</th>\n",
       "      <td>vila lângaro</td>\n",
       "      <td>RS</td>\n",
       "      <td>99955</td>\n",
       "      <td>8463</td>\n",
       "    </tr>\n",
       "  </tbody>\n",
       "</table>\n",
       "<p>27912 rows × 4 columns</p>\n",
       "</div>"
      ],
      "text/plain": [
       "             geolocation_city geolocation_state  geolocation_zip_code_prefix   \n",
       "0                   sao paulo                SP                         1037  \\\n",
       "1                   sao paulo                SP                         1046   \n",
       "3                   sao paulo                SP                         1041   \n",
       "4                   sao paulo                SP                         1035   \n",
       "5                   são paulo                SP                         1012   \n",
       "...                       ...               ...                          ...   \n",
       "999806                 ibiaçá                RS                        99940   \n",
       "999846   santa cecilia do sul                RS                        99952   \n",
       "999867                ciríaco                RS                        99970   \n",
       "999891                estação                RS                        99930   \n",
       "1000046          vila lângaro                RS                        99955   \n",
       "\n",
       "         city_id  \n",
       "0              1  \n",
       "1              1  \n",
       "3              1  \n",
       "4              1  \n",
       "5              2  \n",
       "...          ...  \n",
       "999806      8459  \n",
       "999846      8460  \n",
       "999867      8461  \n",
       "999891      8462  \n",
       "1000046     8463  \n",
       "\n",
       "[27912 rows x 4 columns]"
      ]
     },
     "execution_count": 110,
     "metadata": {},
     "output_type": "execute_result"
    }
   ],
   "source": [
    "cityzipcode"
   ]
  },
  {
   "cell_type": "markdown",
   "id": "c1737681-f04c-4191-9b84-c4e846f84bd9",
   "metadata": {},
   "source": [
    "### Renommer les colonnes"
   ]
  },
  {
   "cell_type": "code",
   "execution_count": 113,
   "id": "5355c4dd-9b45-4a0f-85ee-2b336f2623e6",
   "metadata": {
    "tags": []
   },
   "outputs": [],
   "source": [
    "nouveaux_noms = {\n",
    "    'geolocation_zip_code_prefix': 'zip_code_prefix'\n",
    "}\n",
    "cityzipcode.rename(columns=nouveaux_noms, inplace=True)"
   ]
  },
  {
   "cell_type": "code",
   "execution_count": 115,
   "id": "c8a0cdf6-30a9-4da7-95fb-20381d1419ef",
   "metadata": {
    "tags": []
   },
   "outputs": [],
   "source": [
    "czc = cityzipcode[[\"city_id\", \"zip_code_prefix\"]]"
   ]
  },
  {
   "cell_type": "code",
   "execution_count": 117,
   "id": "ff352534-0339-4ea1-9d64-6a3073fdcbf5",
   "metadata": {
    "tags": []
   },
   "outputs": [
    {
     "data": {
      "text/html": [
       "<div>\n",
       "<style scoped>\n",
       "    .dataframe tbody tr th:only-of-type {\n",
       "        vertical-align: middle;\n",
       "    }\n",
       "\n",
       "    .dataframe tbody tr th {\n",
       "        vertical-align: top;\n",
       "    }\n",
       "\n",
       "    .dataframe thead th {\n",
       "        text-align: right;\n",
       "    }\n",
       "</style>\n",
       "<table border=\"1\" class=\"dataframe\">\n",
       "  <thead>\n",
       "    <tr style=\"text-align: right;\">\n",
       "      <th></th>\n",
       "      <th>city_id</th>\n",
       "      <th>zip_code_prefix</th>\n",
       "    </tr>\n",
       "  </thead>\n",
       "  <tbody>\n",
       "    <tr>\n",
       "      <th>0</th>\n",
       "      <td>1</td>\n",
       "      <td>1037</td>\n",
       "    </tr>\n",
       "    <tr>\n",
       "      <th>1</th>\n",
       "      <td>1</td>\n",
       "      <td>1046</td>\n",
       "    </tr>\n",
       "    <tr>\n",
       "      <th>3</th>\n",
       "      <td>1</td>\n",
       "      <td>1041</td>\n",
       "    </tr>\n",
       "    <tr>\n",
       "      <th>4</th>\n",
       "      <td>1</td>\n",
       "      <td>1035</td>\n",
       "    </tr>\n",
       "    <tr>\n",
       "      <th>5</th>\n",
       "      <td>2</td>\n",
       "      <td>1012</td>\n",
       "    </tr>\n",
       "  </tbody>\n",
       "</table>\n",
       "</div>"
      ],
      "text/plain": [
       "   city_id  zip_code_prefix\n",
       "0        1             1037\n",
       "1        1             1046\n",
       "3        1             1041\n",
       "4        1             1035\n",
       "5        2             1012"
      ]
     },
     "execution_count": 117,
     "metadata": {},
     "output_type": "execute_result"
    }
   ],
   "source": [
    "czc.head()"
   ]
  },
  {
   "cell_type": "markdown",
   "id": "ff34fe23-a2e3-460c-9c9e-823d35de7aa0",
   "metadata": {},
   "source": [
    "### Add in data base"
   ]
  },
  {
   "cell_type": "code",
   "execution_count": 118,
   "id": "d376ab33-5065-4361-9edd-5685aef229c1",
   "metadata": {
    "tags": []
   },
   "outputs": [
    {
     "data": {
      "text/plain": [
       "912"
      ]
     },
     "execution_count": 118,
     "metadata": {},
     "output_type": "execute_result"
    }
   ],
   "source": [
    "czc.to_sql(table_name, engine, if_exists='append', index=False)"
   ]
  },
  {
   "cell_type": "markdown",
   "id": "530f015c-2f0f-429b-9761-39da8abe198d",
   "metadata": {},
   "source": [
    "## geolocation"
   ]
  },
  {
   "cell_type": "code",
   "execution_count": 23,
   "id": "9d83aabd-7bd0-434f-ab62-15d70712aab9",
   "metadata": {
    "tags": []
   },
   "outputs": [],
   "source": [
    "table_name = 'olist_geolocation'"
   ]
  },
  {
   "cell_type": "markdown",
   "id": "ccf10072-a828-4f9e-9fb3-04d81b08144f",
   "metadata": {},
   "source": [
    "### Get city_id from db"
   ]
  },
  {
   "cell_type": "code",
   "execution_count": 7,
   "id": "8884b2d7-246c-43da-9888-e3cdc46e41b7",
   "metadata": {
    "tags": []
   },
   "outputs": [],
   "source": [
    "cities_db = pd.read_sql(\"SELECT * FROM olist_city\", engine)"
   ]
  },
  {
   "cell_type": "code",
   "execution_count": 8,
   "id": "56ffed7a-f5bc-4009-854f-f68e1e9a9016",
   "metadata": {
    "tags": []
   },
   "outputs": [
    {
     "data": {
      "text/html": [
       "<div>\n",
       "<style scoped>\n",
       "    .dataframe tbody tr th:only-of-type {\n",
       "        vertical-align: middle;\n",
       "    }\n",
       "\n",
       "    .dataframe tbody tr th {\n",
       "        vertical-align: top;\n",
       "    }\n",
       "\n",
       "    .dataframe thead th {\n",
       "        text-align: right;\n",
       "    }\n",
       "</style>\n",
       "<table border=\"1\" class=\"dataframe\">\n",
       "  <thead>\n",
       "    <tr style=\"text-align: right;\">\n",
       "      <th></th>\n",
       "      <th>city_id</th>\n",
       "      <th>city_name</th>\n",
       "      <th>state_code</th>\n",
       "    </tr>\n",
       "  </thead>\n",
       "  <tbody>\n",
       "    <tr>\n",
       "      <th>0</th>\n",
       "      <td>1</td>\n",
       "      <td>sao paulo</td>\n",
       "      <td>SP</td>\n",
       "    </tr>\n",
       "    <tr>\n",
       "      <th>1</th>\n",
       "      <td>2</td>\n",
       "      <td>são paulo</td>\n",
       "      <td>SP</td>\n",
       "    </tr>\n",
       "    <tr>\n",
       "      <th>2</th>\n",
       "      <td>3</td>\n",
       "      <td>sao bernardo do campo</td>\n",
       "      <td>SP</td>\n",
       "    </tr>\n",
       "    <tr>\n",
       "      <th>3</th>\n",
       "      <td>4</td>\n",
       "      <td>são paulo</td>\n",
       "      <td>RN</td>\n",
       "    </tr>\n",
       "    <tr>\n",
       "      <th>4</th>\n",
       "      <td>5</td>\n",
       "      <td>jundiaí</td>\n",
       "      <td>SP</td>\n",
       "    </tr>\n",
       "  </tbody>\n",
       "</table>\n",
       "</div>"
      ],
      "text/plain": [
       "   city_id              city_name state_code\n",
       "0        1              sao paulo         SP\n",
       "1        2              são paulo         SP\n",
       "2        3  sao bernardo do campo         SP\n",
       "3        4              são paulo         RN\n",
       "4        5                jundiaí         SP"
      ]
     },
     "execution_count": 8,
     "metadata": {},
     "output_type": "execute_result"
    }
   ],
   "source": [
    "cities_db.head()"
   ]
  },
  {
   "cell_type": "markdown",
   "id": "62ad1eb8-84c7-4b29-b994-b2e9c082f2bc",
   "metadata": {},
   "source": [
    "### Get Data"
   ]
  },
  {
   "cell_type": "code",
   "execution_count": 9,
   "id": "2940dd34-60a1-4beb-b4b5-477fef90ccc0",
   "metadata": {
    "tags": []
   },
   "outputs": [],
   "source": [
    "dfgeoloc = datageoloc.iloc[:, 1:]"
   ]
  },
  {
   "cell_type": "code",
   "execution_count": 10,
   "id": "d8b68e33-843f-4b3d-91e6-bcd42993c387",
   "metadata": {
    "tags": []
   },
   "outputs": [],
   "source": [
    "cols_name = ['geolocation_lat', \"geolocation_lng\", \"city_name\", \"state_code\"]\n",
    "dfgeoloc.columns = cols_name"
   ]
  },
  {
   "cell_type": "code",
   "execution_count": 11,
   "id": "7a0c2a09-16b4-4abd-a8cd-010d656cfe1e",
   "metadata": {
    "tags": []
   },
   "outputs": [
    {
     "data": {
      "text/html": [
       "<div>\n",
       "<style scoped>\n",
       "    .dataframe tbody tr th:only-of-type {\n",
       "        vertical-align: middle;\n",
       "    }\n",
       "\n",
       "    .dataframe tbody tr th {\n",
       "        vertical-align: top;\n",
       "    }\n",
       "\n",
       "    .dataframe thead th {\n",
       "        text-align: right;\n",
       "    }\n",
       "</style>\n",
       "<table border=\"1\" class=\"dataframe\">\n",
       "  <thead>\n",
       "    <tr style=\"text-align: right;\">\n",
       "      <th></th>\n",
       "      <th>geolocation_lat</th>\n",
       "      <th>geolocation_lng</th>\n",
       "      <th>city_name</th>\n",
       "      <th>state_code</th>\n",
       "    </tr>\n",
       "  </thead>\n",
       "  <tbody>\n",
       "    <tr>\n",
       "      <th>0</th>\n",
       "      <td>-23.545621</td>\n",
       "      <td>-46.639292</td>\n",
       "      <td>sao paulo</td>\n",
       "      <td>SP</td>\n",
       "    </tr>\n",
       "    <tr>\n",
       "      <th>1</th>\n",
       "      <td>-23.546081</td>\n",
       "      <td>-46.644820</td>\n",
       "      <td>sao paulo</td>\n",
       "      <td>SP</td>\n",
       "    </tr>\n",
       "    <tr>\n",
       "      <th>2</th>\n",
       "      <td>-23.546129</td>\n",
       "      <td>-46.642951</td>\n",
       "      <td>sao paulo</td>\n",
       "      <td>SP</td>\n",
       "    </tr>\n",
       "    <tr>\n",
       "      <th>3</th>\n",
       "      <td>-23.544392</td>\n",
       "      <td>-46.639499</td>\n",
       "      <td>sao paulo</td>\n",
       "      <td>SP</td>\n",
       "    </tr>\n",
       "    <tr>\n",
       "      <th>4</th>\n",
       "      <td>-23.541578</td>\n",
       "      <td>-46.641607</td>\n",
       "      <td>sao paulo</td>\n",
       "      <td>SP</td>\n",
       "    </tr>\n",
       "  </tbody>\n",
       "</table>\n",
       "</div>"
      ],
      "text/plain": [
       "   geolocation_lat  geolocation_lng  city_name state_code\n",
       "0       -23.545621       -46.639292  sao paulo         SP\n",
       "1       -23.546081       -46.644820  sao paulo         SP\n",
       "2       -23.546129       -46.642951  sao paulo         SP\n",
       "3       -23.544392       -46.639499  sao paulo         SP\n",
       "4       -23.541578       -46.641607  sao paulo         SP"
      ]
     },
     "execution_count": 11,
     "metadata": {},
     "output_type": "execute_result"
    }
   ],
   "source": [
    "dfgeoloc.head()"
   ]
  },
  {
   "cell_type": "code",
   "execution_count": 12,
   "id": "3434180b-3baf-4430-beb6-1cc63a50a3af",
   "metadata": {
    "tags": []
   },
   "outputs": [
    {
     "data": {
      "text/plain": [
       "(1000163, 4)"
      ]
     },
     "execution_count": 12,
     "metadata": {},
     "output_type": "execute_result"
    }
   ],
   "source": [
    "dfgeoloc.shape"
   ]
  },
  {
   "cell_type": "code",
   "execution_count": 13,
   "id": "90515583-b513-42ce-a730-07adf7c610fc",
   "metadata": {
    "tags": []
   },
   "outputs": [],
   "source": [
    "cur = conn.cursor()"
   ]
  },
  {
   "cell_type": "code",
   "execution_count": 17,
   "id": "2d0d05f5-a621-4298-b067-5c8849e79abc",
   "metadata": {
    "tags": []
   },
   "outputs": [],
   "source": [
    "query = \"SELECT city_id FROM olist_city WHERE city_name = %s AND state_code = %s\""
   ]
  },
  {
   "cell_type": "code",
   "execution_count": 18,
   "id": "6ac7e58e-711c-48fd-be4a-6cd9dcd4f0ed",
   "metadata": {
    "tags": []
   },
   "outputs": [],
   "source": [
    "def getCityId(row):\n",
    "    # Exécution de la requête SQL pour récupérer la valeur correspondant aux valeurs de colonne1 et colonne2 de la ligne\n",
    "    cur.execute(query, (row[\"city_name\"], row[\"state_code\"]))\n",
    "    value = cur.fetchone()[0]\n",
    "    # Retourne la valeur pour ajouter une nouvelle colonne au DataFrame\n",
    "    return value\n",
    "\n",
    "dfgeoloc[\"city_id\"] = dfgeoloc.apply(getCityId, axis=1)"
   ]
  },
  {
   "cell_type": "code",
   "execution_count": 19,
   "id": "abb798ed-c2db-43d2-b96a-5ce8551b9daa",
   "metadata": {
    "tags": []
   },
   "outputs": [
    {
     "data": {
      "text/html": [
       "<div>\n",
       "<style scoped>\n",
       "    .dataframe tbody tr th:only-of-type {\n",
       "        vertical-align: middle;\n",
       "    }\n",
       "\n",
       "    .dataframe tbody tr th {\n",
       "        vertical-align: top;\n",
       "    }\n",
       "\n",
       "    .dataframe thead th {\n",
       "        text-align: right;\n",
       "    }\n",
       "</style>\n",
       "<table border=\"1\" class=\"dataframe\">\n",
       "  <thead>\n",
       "    <tr style=\"text-align: right;\">\n",
       "      <th></th>\n",
       "      <th>geolocation_lat</th>\n",
       "      <th>geolocation_lng</th>\n",
       "      <th>city_name</th>\n",
       "      <th>state_code</th>\n",
       "      <th>city_id</th>\n",
       "    </tr>\n",
       "  </thead>\n",
       "  <tbody>\n",
       "    <tr>\n",
       "      <th>0</th>\n",
       "      <td>-23.545621</td>\n",
       "      <td>-46.639292</td>\n",
       "      <td>sao paulo</td>\n",
       "      <td>SP</td>\n",
       "      <td>1</td>\n",
       "    </tr>\n",
       "    <tr>\n",
       "      <th>1</th>\n",
       "      <td>-23.546081</td>\n",
       "      <td>-46.644820</td>\n",
       "      <td>sao paulo</td>\n",
       "      <td>SP</td>\n",
       "      <td>1</td>\n",
       "    </tr>\n",
       "    <tr>\n",
       "      <th>2</th>\n",
       "      <td>-23.546129</td>\n",
       "      <td>-46.642951</td>\n",
       "      <td>sao paulo</td>\n",
       "      <td>SP</td>\n",
       "      <td>1</td>\n",
       "    </tr>\n",
       "    <tr>\n",
       "      <th>3</th>\n",
       "      <td>-23.544392</td>\n",
       "      <td>-46.639499</td>\n",
       "      <td>sao paulo</td>\n",
       "      <td>SP</td>\n",
       "      <td>1</td>\n",
       "    </tr>\n",
       "    <tr>\n",
       "      <th>4</th>\n",
       "      <td>-23.541578</td>\n",
       "      <td>-46.641607</td>\n",
       "      <td>sao paulo</td>\n",
       "      <td>SP</td>\n",
       "      <td>1</td>\n",
       "    </tr>\n",
       "  </tbody>\n",
       "</table>\n",
       "</div>"
      ],
      "text/plain": [
       "   geolocation_lat  geolocation_lng  city_name state_code  city_id\n",
       "0       -23.545621       -46.639292  sao paulo         SP        1\n",
       "1       -23.546081       -46.644820  sao paulo         SP        1\n",
       "2       -23.546129       -46.642951  sao paulo         SP        1\n",
       "3       -23.544392       -46.639499  sao paulo         SP        1\n",
       "4       -23.541578       -46.641607  sao paulo         SP        1"
      ]
     },
     "execution_count": 19,
     "metadata": {},
     "output_type": "execute_result"
    }
   ],
   "source": [
    "dfgeoloc.head()"
   ]
  },
  {
   "cell_type": "code",
   "execution_count": 22,
   "id": "f3438b31-be5d-4c2e-a333-1d2c4f363fa7",
   "metadata": {
    "tags": []
   },
   "outputs": [],
   "source": [
    "geoloc = dfgeoloc[[\"geolocation_lng\", \"geolocation_lat\", \"city_id\"]]"
   ]
  },
  {
   "cell_type": "code",
   "execution_count": 24,
   "id": "49d4c011-d7db-4be9-982e-ce6adb3936e0",
   "metadata": {
    "tags": []
   },
   "outputs": [
    {
     "data": {
      "text/plain": [
       "163"
      ]
     },
     "execution_count": 24,
     "metadata": {},
     "output_type": "execute_result"
    }
   ],
   "source": [
    "geoloc.to_sql(table_name, engine, if_exists='append', index=False)"
   ]
  },
  {
   "cell_type": "markdown",
   "id": "9fc12bfb-c02a-496b-a144-8edc5cd1e1b4",
   "metadata": {},
   "source": [
    "# Close the cursor and connection objects"
   ]
  },
  {
   "cell_type": "code",
   "execution_count": 25,
   "id": "8fc24325-cf79-4ee4-b08e-2a0ec7632167",
   "metadata": {},
   "outputs": [],
   "source": [
    "conn.commit()\n",
    "cur.close()\n",
    "conn.close()"
   ]
  },
  {
   "cell_type": "code",
   "execution_count": null,
   "id": "06043207-d9bc-400a-b112-3402b0d1794b",
   "metadata": {},
   "outputs": [],
   "source": []
  }
 ],
 "metadata": {
  "kernelspec": {
   "display_name": "Python 3.11.2",
   "language": "python",
   "name": "myenv"
  },
  "language_info": {
   "codemirror_mode": {
    "name": "ipython",
    "version": 3
   },
   "file_extension": ".py",
   "mimetype": "text/x-python",
   "name": "python",
   "nbconvert_exporter": "python",
   "pygments_lexer": "ipython3",
   "version": "3.11.2"
  }
 },
 "nbformat": 4,
 "nbformat_minor": 5
}
