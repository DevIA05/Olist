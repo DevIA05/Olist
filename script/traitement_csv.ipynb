{
 "cells": [
  {
   "cell_type": "code",
   "execution_count": null,
   "metadata": {},
   "outputs": [],
   "source": [
    "import csv\n",
    "import psycopg2"
   ]
  },
  {
   "cell_type": "code",
   "execution_count": null,
   "metadata": {},
   "outputs": [],
   "source": [
    "# Remplacez ces valeurs par les informations de votre base de données\n",
    "db_host = \"localhost\"\n",
    "db_name = \"nom_base_de_donnees\"\n",
    "db_user = \"utilisateur\"\n",
    "db_password = \"mot_de_passe\"\n",
    "\n",
    "# Établir la connexion avec la base de données PostgreSQL\n",
    "connection = psycopg2.connect(\n",
    "    host=db_host,\n",
    "    database=db_name,\n",
    "    user=db_user,\n",
    "    password=db_password\n",
    ")\n",
    "\n",
    "# Créer un curseur pour interagir avec la base de données\n",
    "cursor = connection.cursor()\n",
    "\n",
    "# Ouvrir le fichier CSV\n",
    "with open(\"fichier.csv\", \"r\", encoding=\"utf-8\") as csvfile:\n",
    "    reader = csv.reader(csvfile)\n",
    "\n",
    "    # Passer l'en-tête si votre fichier CSV a une en-tête\n",
    "    next(reader)\n",
    "\n",
    "    # Insérer les données ligne par ligne\n",
    "    for row in reader:\n",
    "        cursor.execute(\n",
    "            \"INSERT INTO nom_table (colonne1, colonne2, colonne3) VALUES (%s, %s, %s)\",\n",
    "            (row[0], row[1], row[2])\n",
    "        )\n",
    "\n",
    "# Valider les changements et fermer la connexion\n",
    "connection.commit()\n",
    "cursor.close()\n",
    "connection.close()\n"
   ]
  }
 ],
 "metadata": {
  "kernelspec": {
   "display_name": ".env",
   "language": "python",
   "name": "python3"
  },
  "language_info": {
   "name": "python",
   "version": "3.11.2"
  },
  "orig_nbformat": 4
 },
 "nbformat": 4,
 "nbformat_minor": 2
}
